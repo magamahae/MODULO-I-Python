{
 "cells": [
  {
   "cell_type": "markdown",
   "metadata": {},
   "source": [
    "# Práctica Clase 5"
   ]
  },
  {
   "cell_type": "markdown",
   "metadata": {},
   "source": [
    "1) Implementar un juego, que consista en apilar números enteros del 1 al 20, de forma aleatoria, para lo cual debe usarse una estructura de Pila. \n",
    "Luego, el usuario debe elegir un número de veces en que se va a quitar elementos de la pila, los cuales, sumados entre sí, no deben superar el valor de 50.\n",
    "El usuario pierde si la suma supera ese valor. Si no lo supera, gana, pero su calificación será 10 menos el número elementos que falten quitar para todavía no superar 50.\n",
    "El programa debe informar si perdió, y si ganó, con qué calificación lo hizo.\n",
    "\n",
    "Consideraciones:<br>\n",
    "a. Se puede usar la función input() para obtener una entrada de teclado.<br>\n",
    "b. Se puede usar la el modulo random para obtener valores aleatorios."
   ]
  },
  {
   "cell_type": "code",
   "execution_count": 81,
   "metadata": {},
   "outputs": [],
   "source": [
    "import numpy as np\n",
    "\n",
    "class Juego_pila():\n",
    "    def __init__(self):\n",
    "        self.__list = []\n",
    "\n",
    "    def crear_pila(self):\n",
    "        self.num=[]\n",
    "        self.num = np.arange(1,21)\n",
    "        np.random.shuffle(self.num)\n",
    "        self.num=list(self.num)\n",
    "        print('La pila es:',self.num) # Imprimimos la lista\n",
    "    \n",
    "    def suma_1(self,elementos):\n",
    "        self.i = 1\n",
    "        self.suma = 0 \n",
    "       \n",
    "        while (self.i <= elementos):\n",
    "            self.suma += self.num.pop() \n",
    "            self.i+=1\n",
    "        return self.suma\n",
    "\n",
    "    def puntaje(self, resultado):\n",
    "        self.puntos = 10 # Definimos el puntaje en 10\n",
    "        # Inicializamos la suma de resulatados y resultados es la variable definida en la función jugar()\n",
    "        self.sum_resultado = self.resultado \n",
    "        # mientras que la suma del resultado sea <= 50\n",
    "        while (self.sum_resultado <= 50):\n",
    "            self.sum_resultado += self.num.pop()\n",
    "            self.puntos = self.puntos - 1\n",
    "    \n",
    "        if (self.sum_resultado > 50):\n",
    "            return (self.puntos + 1)\n",
    "        else: \n",
    "            \n",
    "            return (self.puntos)\n",
    "        \n",
    "    def jugar(self): \n",
    "\n",
    "        self.crear_pila()\n",
    "\n",
    "        print('cuantos elementos va a sacar? ')\n",
    "        self.cant_elem = int(input())\n",
    "        print('Se sacarán ',self.cant_elem,' elementos')\n",
    "\n",
    "        self.resultado = self.suma_1(self.cant_elem)\n",
    "\n",
    "        \n",
    "\n",
    "        print('la lista resultante es:\\n' , self.num)\n",
    "        print('mi suma es', self.resultado)\n",
    "       \n",
    "        if (self.resultado > 50):\n",
    "            print('Perdiste, tus números suman', self.resultado)\n",
    "        else:\n",
    "            print('Ganaste con un resultado de ',self.resultado, 'teniendo un puntaje de ',self.puntaje(self.resultado))\n",
    "    "
   ]
  },
  {
   "cell_type": "code",
   "execution_count": 82,
   "metadata": {},
   "outputs": [],
   "source": [
    "p=Juego_pila()"
   ]
  },
  {
   "cell_type": "code",
   "execution_count": 83,
   "metadata": {},
   "outputs": [
    {
     "name": "stdout",
     "output_type": "stream",
     "text": [
      "La pila es: [17, 7, 19, 5, 13, 10, 2, 9, 12, 20, 15, 4, 18, 14, 16, 6, 8, 3, 11, 1]\n"
     ]
    }
   ],
   "source": [
    "p.crear_pila()\n"
   ]
  },
  {
   "cell_type": "code",
   "execution_count": 84,
   "metadata": {},
   "outputs": [
    {
     "name": "stdout",
     "output_type": "stream",
     "text": [
      "La pila es: [5, 7, 9, 12, 4, 15, 8, 19, 1, 11, 16, 18, 2, 3, 14, 13, 20, 10, 17, 6]\n",
      "cuantos elementos va a sacar? \n",
      "Se sacarán  2  elementos\n",
      "la lista resultante es:\n",
      " [5, 7, 9, 12, 4, 15, 8, 19, 1, 11, 16, 18, 2, 3, 14, 13, 20, 10]\n",
      "mi suma es 23\n",
      "Ganaste con un resultado de  23 teniendo un puntaje de  9\n"
     ]
    }
   ],
   "source": [
    "p.jugar()"
   ]
  },
  {
   "cell_type": "markdown",
   "metadata": {},
   "source": [
    "2) Implementar un juego donde constas de 2 jarras, de capacidad 5 y 3 litros respectivamente, y debes colocar 4 litros en la jarra de 5L.\n",
    "Las opciones posibles son:\n",
    "* Llenar la jarra de 3 litros\n",
    "* Llenar la jarra de 5 litros\n",
    "* Vaciar la jarra de 3 litros\n",
    "* Vaciar la jarra de 5 litros\n",
    "* Verter el contenido de la jarra de 3 litros en la de 5 litros\n",
    "* Verter el contenido de la jarra de 5 litros en la de 3 litros"
   ]
  },
  {
   "cell_type": "code",
   "execution_count": 85,
   "metadata": {},
   "outputs": [],
   "source": [
    "class Juego_Jarra():\n",
    "    def __init__(self):\n",
    "        self.__jarra5 = 0\n",
    "        self.__jarra3 = 0\n",
    "\n",
    "    def llenar(self, jarra):\n",
    "        if jarra == 3:\n",
    "            if self.__jarra3 != 0:\n",
    "                print(\"La jarra de 3 lts ya está llena!\")\n",
    "            else:    \n",
    "                self.__jarra3 = 3\n",
    "                print(\"Jarra de 3 lts llenada.\")\n",
    "        elif jarra == 5:\n",
    "            if self.__jarra5 != 0:\n",
    "                print(\"La jarra de 5 lts ya está llena!\")\n",
    "            else:\n",
    "                self.__jarra5 = 5\n",
    "                print(\"Jarra de 5 lts llenada.\")\n",
    "        else:\n",
    "            print(\"Indique si quiere llenar la jarra 3 o la jarra 5 (ingrese el número)\")\n",
    "    \n",
    "    def vaciar(self,jarra):\n",
    "        if jarra == 3:\n",
    "            if self.__jarra3 == 0:\n",
    "                print(\"La jarra de 3 lts ya está vacía!\")\n",
    "            else:    \n",
    "                self.__jarra3 = 0\n",
    "                print(\"Jarra de 3 lts vaciada.\")\n",
    "        elif jarra == 5:\n",
    "            if self.__jarra5 == 0:\n",
    "                print(\"La jarra de 5 lts ya está vacía!\")\n",
    "            else:\n",
    "                self.__jarra5 = 0\n",
    "                print(\"Jarra de 5 lts vaciada.\")\n",
    "        else:\n",
    "            print(\"Indique si quiere vaciar la jarra 3 o la jarra 5 (ingrese el número)\")\n",
    "\n",
    "    def consultar(self):\n",
    "        print (f\"En la jarra 3 hay {self.__jarra3} lts y en la jarra 5 hay {self.__jarra5} lts.\") \n",
    "    \n",
    "    def verter (self,jarra):\n",
    "        if jarra == 3:\n",
    "            if self.__jarra5 == 0:\n",
    "                self.__jarra5 += self.__jarra3\n",
    "                self.__jarra3 = 0\n",
    "            else:\n",
    "                while (self.__jarra3 != 0 and self.__jarra5 < 5):\n",
    "                    self.__jarra5 += 1\n",
    "                    self.__jarra3 -= 1\n",
    "\n",
    "        elif jarra == 5:\n",
    "            if self.__jarra5 == 0:\n",
    "                pass\n",
    "            else:\n",
    "                while self.__jarra5 != 0 and self.__jarra3 < 3:\n",
    "                    self.__jarra3 += 1\n",
    "                    self.__jarra5 -= 1\n",
    "        print(f\"Ahora la jarra 3 tiene {self.__jarra3} lts y la jarra 5 tiene {self.__jarra5} lts.\")"
   ]
  },
  {
   "cell_type": "code",
   "execution_count": 104,
   "metadata": {},
   "outputs": [],
   "source": [
    "j=Juego_Jarra()\n"
   ]
  },
  {
   "cell_type": "code",
   "execution_count": 105,
   "metadata": {},
   "outputs": [
    {
     "name": "stdout",
     "output_type": "stream",
     "text": [
      "Jarra de 3 lts llenada.\n",
      "Ahora la jarra 3 tiene 0 lts y la jarra 5 tiene 3 lts.\n",
      "Jarra de 3 lts llenada.\n",
      "Ahora la jarra 3 tiene 1 lts y la jarra 5 tiene 5 lts.\n"
     ]
    }
   ],
   "source": [
    "j.llenar(3)\n",
    "j.verter(3)\n",
    "j.llenar(3)\n",
    "j.verter(3)"
   ]
  },
  {
   "cell_type": "code",
   "execution_count": 88,
   "metadata": {},
   "outputs": [
    {
     "name": "stdout",
     "output_type": "stream",
     "text": [
      "En la jarra 3 hay 0 lts y en la jarra 5 hay 0 lts.\n"
     ]
    }
   ],
   "source": [
    "j.consultar()"
   ]
  },
  {
   "cell_type": "code",
   "execution_count": 93,
   "metadata": {},
   "outputs": [
    {
     "name": "stdout",
     "output_type": "stream",
     "text": [
      "La jarra de 5 lts ya está llena!\n",
      "Jarra de 3 lts llenada.\n"
     ]
    }
   ],
   "source": [
    "j.llenar(5)\n",
    "j.llenar(3)"
   ]
  },
  {
   "cell_type": "code",
   "execution_count": 94,
   "metadata": {},
   "outputs": [
    {
     "name": "stdout",
     "output_type": "stream",
     "text": [
      "Jarra de 3 lts vaciada.\n"
     ]
    }
   ],
   "source": [
    "j.vaciar(3)"
   ]
  },
  {
   "cell_type": "code",
   "execution_count": 100,
   "metadata": {},
   "outputs": [
    {
     "name": "stdout",
     "output_type": "stream",
     "text": [
      "Ahora la jarra 3 tiene 3 lts y la jarra 5 tiene 2 lts.\n",
      "Ahora la jarra 3 tiene 0 lts y la jarra 5 tiene 5 lts.\n",
      "Ahora la jarra 3 tiene 0 lts y la jarra 5 tiene 5 lts.\n",
      "La jarra de 5 lts ya está llena!\n"
     ]
    }
   ],
   "source": [
    "j.verter(5)\n",
    "j.verter(3)\n",
    "j.verter(3)\n",
    "j.llenar(5)"
   ]
  },
  {
   "cell_type": "code",
   "execution_count": 97,
   "metadata": {},
   "outputs": [
    {
     "name": "stdout",
     "output_type": "stream",
     "text": [
      "En la jarra 3 hay 3 lts y en la jarra 5 hay 2 lts.\n"
     ]
    }
   ],
   "source": [
    "j.consultar()"
   ]
  },
  {
   "cell_type": "code",
   "execution_count": null,
   "metadata": {},
   "outputs": [],
   "source": []
  }
 ],
 "metadata": {
  "kernelspec": {
   "display_name": "Python 3",
   "language": "python",
   "name": "python3"
  },
  "language_info": {
   "codemirror_mode": {
    "name": "ipython",
    "version": 3
   },
   "file_extension": ".py",
   "mimetype": "text/x-python",
   "name": "python",
   "nbconvert_exporter": "python",
   "pygments_lexer": "ipython3",
   "version": "3.11.5"
  }
 },
 "nbformat": 4,
 "nbformat_minor": 4
}
