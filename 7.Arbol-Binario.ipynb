{
 "cells": [
  {
   "cell_type": "markdown",
   "metadata": {},
   "source": [
    "# Práctica Clase 7"
   ]
  },
  {
   "cell_type": "markdown",
   "metadata": {},
   "source": [
    "1) Diseñar una clase que permita trabajar con un árbol binario y que contenga los métodos:<br>\n",
    "    * insertaVal: para insertar un dato<br>\n",
    "    * buscaVal: que devuelva True o False si existe o no un dato<br>\n",
    "    * verVal: que imprima por pantalla los valores del árbol<br>\n",
    "\n",
    "Nota: Se puede utilizar la recursividad\n"
   ]
  },
  {
   "cell_type": "code",
   "execution_count": 5,
   "metadata": {},
   "outputs": [],
   "source": [
    "class Nodo():\n",
    "    def __init__(self, dato):\n",
    "        self.dato = dato\n",
    "        self.izq = None\n",
    "        self.der = None"
   ]
  },
  {
   "cell_type": "code",
   "execution_count": 8,
   "metadata": {},
   "outputs": [],
   "source": [
    "class Arbol():\n",
    "    def __init__(self):\n",
    "        self.raiz = None\n",
    "\n",
    "    def insertaVal(self, dato):\n",
    "        n = Nodo(dato)\n",
    "        if (self.raiz == None):\n",
    "            self.raiz = n\n",
    "        else:\n",
    "            puntero = self.raiz\n",
    "            if (puntero.izq == None):\n",
    "                puntero.izq = n\n",
    "            if (puntero.der == None):\n",
    "                puntero.der = n"
   ]
  },
  {
   "cell_type": "code",
   "execution_count": 9,
   "metadata": {},
   "outputs": [],
   "source": [
    "a = Arbol()"
   ]
  },
  {
   "cell_type": "code",
   "execution_count": 10,
   "metadata": {},
   "outputs": [],
   "source": [
    "a.insertaVal(2)"
   ]
  },
  {
   "cell_type": "code",
   "execution_count": 8,
   "metadata": {},
   "outputs": [],
   "source": [
    "class Arbol():\n",
    "    def __init__(self, dato):\n",
    "        self.dato = dato\n",
    "        self.izq = None\n",
    "        self.der = None\n",
    "\n",
    "    def insertaVal(self, dato):\n",
    "        if self.dato != None:\n",
    "            if dato > self.dato:\n",
    "                if self.der == None:\n",
    "                    self.der= Arbol(dato)\n",
    "                else:\n",
    "                    self.der.insertaVal(dato)  \n",
    "\n",
    "            elif dato < self.dato:\n",
    "                if self.izq == None:\n",
    "                    self.izq= Arbol(dato)\n",
    "                else:\n",
    "                    self.izq.insertaVal(dato)    \n",
    "            \n",
    "            else: print('valor repetido')\n",
    "\n",
    "\n",
    "\n",
    "    def buscraVal(self, val_bus):\n",
    "        if val_bus < self.dato:\n",
    "            if self.izq==None:\n",
    "                return False\n",
    "            else:\n",
    "                return self.izq.buscraVal(val_bus)\n",
    "        if val_bus> self.dato:\n",
    "            if self.der==None:\n",
    "                return False\n",
    "            else:\n",
    "                return self.der.buscraVal(val_bus)\n",
    "        else: return True\n",
    "\n",
    "    def verVal(self):\n",
    "        print(self.dato)\n",
    "        if self.der: self.der.verVal()\n",
    "        if self.izq: self.izq.verVal()"
   ]
  },
  {
   "cell_type": "code",
   "execution_count": 12,
   "metadata": {},
   "outputs": [],
   "source": [
    "raiz=Arbol(5)\n",
    "raiz.insertaVal(20)\n",
    "raiz.insertaVal(3)\n",
    "raiz.insertaVal(23)\n",
    "raiz.insertaVal(2)"
   ]
  },
  {
   "cell_type": "code",
   "execution_count": 13,
   "metadata": {},
   "outputs": [
    {
     "name": "stdout",
     "output_type": "stream",
     "text": [
      "5\n",
      "20\n",
      "23\n",
      "3\n",
      "2\n"
     ]
    }
   ],
   "source": [
    "raiz.verVal()"
   ]
  }
 ],
 "metadata": {
  "kernelspec": {
   "display_name": "Python 3",
   "language": "python",
   "name": "python3"
  },
  "language_info": {
   "codemirror_mode": {
    "name": "ipython",
    "version": 3
   },
   "file_extension": ".py",
   "mimetype": "text/x-python",
   "name": "python",
   "nbconvert_exporter": "python",
   "pygments_lexer": "ipython3",
   "version": "3.11.5"
  }
 },
 "nbformat": 4,
 "nbformat_minor": 4
}
